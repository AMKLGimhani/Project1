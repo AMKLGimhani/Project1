{
 "cells": [
  {
   "cell_type": "code",
   "execution_count": 1,
   "id": "7f4ccc0c",
   "metadata": {},
   "outputs": [
    {
     "name": "stdout",
     "output_type": "stream",
     "text": [
      "Player :4\n",
      "Try a smaller number\n",
      "Player :3\n",
      "Try a smaller number\n",
      "Player :2\n",
      "Thats Right ! number of tries 3\n"
     ]
    }
   ],
   "source": [
    "import random\n",
    "player_gusses=0\n",
    "player_number_int=0\n",
    "number_player = random.randint(0, 10)\n",
    "\n",
    "i = 0\n",
    "while i==0:\n",
    "    player_number = input(\"Player :\")\n",
    "    player_number_int = int(player_number)\n",
    "    player_gusses+=1\n",
    "    if number_player == player_number_int:\n",
    "       print(\"Thats Right ! number of tries \"+ str(player_gusses))\n",
    "       i=1\n",
    "    elif number_player < player_number_int:\n",
    "       print(\"Try a smaller number\") \n",
    "    else:\n",
    "        print(\"Try a greater number.\") "
   ]
  },
  {
   "cell_type": "code",
   "execution_count": null,
   "id": "bb88ab1c",
   "metadata": {},
   "outputs": [],
   "source": []
  }
 ],
 "metadata": {
  "kernelspec": {
   "display_name": "Python 3 (ipykernel)",
   "language": "python",
   "name": "python3"
  },
  "language_info": {
   "codemirror_mode": {
    "name": "ipython",
    "version": 3
   },
   "file_extension": ".py",
   "mimetype": "text/x-python",
   "name": "python",
   "nbconvert_exporter": "python",
   "pygments_lexer": "ipython3",
   "version": "3.9.13"
  }
 },
 "nbformat": 4,
 "nbformat_minor": 5
}
